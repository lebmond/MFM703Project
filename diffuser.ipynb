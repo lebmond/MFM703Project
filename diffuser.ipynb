{
 "cells": [
  {
   "cell_type": "markdown",
   "metadata": {},
   "source": [
    "# 1 Package Loading and Preparing"
   ]
  },
  {
   "cell_type": "code",
   "execution_count": 23,
   "metadata": {},
   "outputs": [],
   "source": [
    "import matplotlib.pyplot as plt\n",
    "import pandas as pd\n",
    "import torch\n",
    "import random\n",
    "# import pytorch_lightning as pl\n",
    "\n",
    "# from gluonts.dataset.common import ListDataset\n",
    "# from gluonts.dataset.util import to_pandas\n",
    "\n",
    "# from pts.model.deepar import DeepAREstimator\n",
    "# from pts import Trainer\n",
    "import yfinance as yf\n",
    "import torch\n",
    "import torch.nn as nn\n",
    "import torch.nn.functional as F\n",
    "import torch.optim as optim\n",
    "import numpy as np"
   ]
  },
  {
   "cell_type": "code",
   "execution_count": 42,
   "metadata": {},
   "outputs": [
    {
     "name": "stdout",
     "output_type": "stream",
     "text": [
      "[*********************100%%**********************]  1 of 1 completed\n",
      "[*********************100%%**********************]  1 of 1 completed\n",
      "Date\n",
      "2020-01-02    3257.850098\n",
      "2020-01-03    3234.850098\n",
      "2020-01-06    3246.280029\n",
      "2020-01-07    3237.179932\n",
      "2020-01-08    3253.050049\n",
      "Name: Adj Close, dtype: float64\n",
      "504\n"
     ]
    }
   ],
   "source": [
    "## Fetch the Engery Sector SP500 Stocks\n",
    "\n",
    "\n",
    "axp = yf.Ticker(\"AXP\")\n",
    "adj_close = axp.history(start = \"2020-01-01\", end = \"2021-12-31\")[\"Close\"]\n",
    "\n",
    "# 2020-2021 two year prices\n",
    "sp500_index_train = yf.download('^GSPC', start='2020-01-01', end='2021-12-31')[\"Adj Close\"]\n",
    "\n",
    "# 2022 annual prices, to be predicted\n",
    "sp500_index_test = yf.download('^GSPC', start='2022-01-01', end='2022-12-31')[\"Adj Close\"]\n",
    "\n",
    "adj_close = sp500_index_train\n",
    "adj_close_df = pd.DataFrame(adj_close)\n",
    "n = adj_close.shape[0]\n",
    "\n",
    "# Extract adjusted closing prices\n",
    "print(adj_close.head())\n",
    "print(n)"
   ]
  },
  {
   "attachments": {},
   "cell_type": "markdown",
   "metadata": {},
   "source": [
    "# 2 Noise Perturbing"
   ]
  },
  {
   "cell_type": "code",
   "execution_count": 43,
   "metadata": {},
   "outputs": [],
   "source": [
    "import math\n",
    "import scipy.stats\n",
    "import numpy as np\n",
    "## Forward Markov Chain\n",
    "## Perturbing noise in the price until totally random\n",
    "\n",
    "def corrput(data, beta = None, t = 200):\n",
    "  \"\"\"\n",
    "  Inputs:\n",
    "    data: A Series\n",
    "    t: An positive integer\n",
    "    beta: A list of hyperparameters that control the variance of the noise\n",
    "          within the range of [0,1] and is non-decreasing\n",
    "  Output: A Series\n",
    "  This function addes noise to the stock data and returns this stock data but pertubed\n",
    "    t times.\n",
    "  \"\"\"\n",
    "  beta = beta = [0.003] * adj_close.shape[0] if beta == None else beta\n",
    "  \n",
    "  alpha_bar = 1\n",
    "  for i in range(t):\n",
    "    alpha_bar *= 1 - beta[i]\n",
    "    #alpha.append(1 - beta[i]) # reparameterized by the last hypermeter\n",
    "  \n",
    "  for i in range(len(data)): # pertubing noise n times into each observations of data\n",
    "    data.iloc[i,0] = math.sqrt(alpha_bar) * data.iloc[i,0] + math.sqrt(1 - alpha_bar) * random.normalvariate(0,1)\n",
    "  return data\n",
    "\n",
    "\n",
    "class DiffusionModel(nn.Module):\n",
    "  def __init__(self, input_size, hidden_size, num_layers):\n",
    "    super(DiffusionModel, self).__init__()\n",
    "    # Define the architecture using reversible transformations\n",
    "\n",
    "  def forward(self, x):\n",
    "    # Implement the forward pass through reversible transformations\n",
    "    return x"
   ]
  },
  {
   "cell_type": "code",
   "execution_count": 48,
   "metadata": {},
   "outputs": [
    {
     "data": {
      "image/png": "[encoded data removed]",
      "text/plain": [
       "<Figure size 500x300 with 6 Axes>"
      ]
     },
     "metadata": {},
     "output_type": "display_data"
    }
   ],
   "source": [
    "## Demo for the Noise Perturbing\n",
    "cor_axp = adj_close_df.copy()\n",
    "fig, axes = plt.subplots(nrows=1, ncols=6, figsize=(5, 3))\n",
    "fig_count = 0\n",
    "\n",
    "for time in range(200):# add noise 200 times\n",
    "  if time in [0, 9, 24, 54, 99,199]:\n",
    "    axes[fig_count].plot(cor_axp)\n",
    "  cor_axp = corrput(cor_axp, t =time) # add noise once\n",
    "\n",
    "fig.tight_layout()"
   ]
  },
  {
   "attachments": {},
   "cell_type": "markdown",
   "metadata": {},
   "source": [
    "# 3 Denoising NN training "
   ]
  },
  {
   "cell_type": "code",
   "execution_count": 46,
   "metadata": {},
   "outputs": [],
   "source": [
    "## Assigned to Linyu\n",
    "def denoise(data):\n",
    "    \"\"\"\n",
    "    Takes a noise-peturbed data and try to denoise it.\n",
    "    Output: A DataFrame of two\n",
    "    \"\"\""
   ]
  },
  {
   "attachments": {},
   "cell_type": "markdown",
   "metadata": {},
   "source": [
    "# 4 "
   ]
  },
  {
   "cell_type": "code",
   "execution_count": null,
   "metadata": {},
   "outputs": [],
   "source": [
    "cor_axp."
   ]
  },
  {
   "attachments": {},
   "cell_type": "markdown",
   "metadata": {},
   "source": [
    "## MLP"
   ]
  },
  {
   "cell_type": "code",
   "execution_count": null,
   "metadata": {},
   "outputs": [],
   "source": [
    "## Assgined to Yanda\n",
    "### Could try different time steps  (e.g. 7-day)\n",
    "def splitSeries(data, steps = 30):\n",
    "    \"\"\"\n",
    "    Split a given univariate Series into multiple segments with length equal to steps.\n",
    "    Input:\n",
    "        data: A DataFrame\n",
    "        steps: A positive int\n",
    "    Output:\n",
    "        A new data frame that represents the segements of time series\n",
    "    \"\"\"\n",
    "    # univariate data preparation\n",
    "from numpy import array\n",
    " \n",
    "# split a univariate sequence into samples\n",
    "def split_sequence(sequence, n_steps):\n",
    " X, y = list(), list()\n",
    " for i in range(len(sequence)):\n",
    "    # find the end of this pattern\n",
    "    end_ix = i + n_steps\n",
    "    # check if we are beyond the sequence\n",
    "    if end_ix > len(sequence)-1:\n",
    "        break\n",
    "    # gather input and output parts of the pattern\n",
    "    seq_x, seq_y = sequence[i:end_ix], sequence[end_ix]\n",
    "    X.append(seq_x)\n",
    "    y.append(seq_y)\n",
    "    return array(X), array(y)\n",
    " \n",
    "# define input sequence\n",
    "raw_seq = [10, 20, 30, 40, 50, 60, 70, 80, 90]\n",
    "# choose a number of time steps\n",
    "n_steps = 3\n",
    "# split into samples\n",
    "X, y = split_sequence(raw_seq, n_steps)\n",
    "# summarize the data\n",
    "for i in range(len(X)):\n",
    " print(X[i], y[i])"
   ]
  },
  {
   "cell_type": "code",
   "execution_count": null,
   "metadata": {},
   "outputs": [],
   "source": [
    "#from keras.models import Sequential\n",
    "#from keras.layers import Dense\n",
    "# define model\n",
    "model = Sequential()\n",
    "model.add(Dense(100, activation='relu', input_dim=n_steps))\n",
    "model.add(Dense(1))\n",
    "model.compile(optimizer='adam', loss='mse')\n",
    "# fit model\n",
    "model.fit(X, y, epochs=2000, verbose=0)\n",
    "# demonstrate prediction\n",
    "x_input = array([70, 80, 90])\n",
    "x_input = x_input.reshape((1, n_steps))\n",
    "yhat = model.predict(x_input, verbose=0)\n",
    "print(yhat)"
   ]
  }
 ],
 "metadata": {
  "kernelspec": {
   "display_name": "base",
   "language": "python",
   "name": "python3"
  },
  "language_info": {
   "codemirror_mode": {
    "name": "ipython",
    "version": 3
   },
   "file_extension": ".py",
   "mimetype": "text/x-python",
   "name": "python",
   "nbconvert_exporter": "python",
   "pygments_lexer": "ipython3",
   "version": "3.11.5"
  },
  "vscode": {
   "interpreter": {
    "hash": "da8f13de08caad2f9d958159f062253afca10f1c85bb11dc5fad32fcefd8a3b9"
   }
  }
 },
 "nbformat": 4,
 "nbformat_minor": 2
}
